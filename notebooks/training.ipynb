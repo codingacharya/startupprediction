# === Import Libraries ===
import pandas as pd
import numpy as np
import os
import joblib
from sklearn.model_selection import train_test_split
from sklearn.ensemble import RandomForestClassifier
from sklearn.metrics import classification_report, accuracy_score

# === Load Dataset ===
# Replace with your real CSV if available
df = pd.read_csv('../data/startup_sample_data.csv')

# === Quick View ===
df.head()

# === Basic Preprocessing ===
# Drop rows with missing values (for simplicity)
df.dropna(inplace=True)

# Assume "Success" is the label column
X = df.drop('Success', axis=1)
y = df['Success']

# === Train-Test Split ===
X_train, X_test, y_train, y_test = train_test_split(
    X, y, test_size=0.2, random_state=42
)

# === Train Model ===
model = RandomForestClassifier(n_estimators=100, random_state=42)
model.fit(X_train, y_train)

# === Evaluate Model ===
y_pred = model.predict(X_test)
print("Accuracy:", accuracy_score(y_test, y_pred))
print("\nClassification Report:\n", classification_report(y_test, y_pred))

# === Save Model ===
# Make sure directory exists
os.makedirs("../models", exist_ok=True)
joblib.dump(model, "../models/model.pkl")

print("✅ Model trained and saved to models/model.pkl")
